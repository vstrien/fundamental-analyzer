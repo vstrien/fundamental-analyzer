{
 "cells": [
  {
   "cell_type": "code",
   "execution_count": 1,
   "metadata": {},
   "outputs": [],
   "source": [
    "role = \"\"\"You are a seasoned fundamental analyst and value investor. You analyze the following earnings call of 2024Q1. You analyze the call and name any red flags, things the management is trying to hide in plain sight, or remarkable honesty that is showing up here. You can use any tools you want, and always explain your reasoning.\"\"\""
   ]
  },
  {
   "cell_type": "code",
   "execution_count": 3,
   "metadata": {},
   "outputs": [],
   "source": [
    "\n",
    "with open('RELL Q2 earnings transcript.html', 'r') as f:\n",
    "    earnings_call = f.read()"
   ]
  },
  {
   "cell_type": "code",
   "execution_count": 4,
   "metadata": {},
   "outputs": [],
   "source": [
    "openaiendpoint = \"https://smartlearning.openai.azure.com/\"\n"
   ]
  },
  {
   "cell_type": "code",
   "execution_count": 11,
   "metadata": {},
   "outputs": [],
   "source": [
    "import os\n",
    "import openai\n",
    "from dotenv import load_dotenv\n",
    "\n",
    "import pickle\n",
    "openai.api_type = \"azure\"\n",
    "openai.api_version = \"2023-05-15\" \n",
    "openai.api_base = os.getenv(\"AZURE_OPENAI_ENDPOINT\")  # Your Azure OpenAI resource's endpoint value.\n",
    "openai.api_key = os.getenv(\"AZURE_OPENAI_KEY\")\n",
    "messages = [\n",
    "        {\"role\": \"system\", \"content\": role},\n",
    "        {\"role\": \"user\", \"content\": \"Analyze the following earnings call. \\n\" + earnings_call}\n",
    "    ]\n",
    "\n"
   ]
  },
  {
   "cell_type": "code",
   "execution_count": 12,
   "metadata": {},
   "outputs": [
    {
     "name": "stdout",
     "output_type": "stream",
     "text": [
      "https://wslswedencentral.openai.azure.com/\n"
     ]
    }
   ],
   "source": [
    "print(openai.api_base)"
   ]
  },
  {
   "cell_type": "code",
   "execution_count": 13,
   "metadata": {},
   "outputs": [],
   "source": [
    "response = openai.ChatCompletion.create(\n",
    "    engine=\"gpt-4-32k\", # The deployment name you chose when you deployed the GPT-35-Turbo or GPT-4 model.\n",
    "    messages=messages\n",
    ")\n",
    "\n",
    "\n"
   ]
  },
  {
   "cell_type": "code",
   "execution_count": 14,
   "metadata": {},
   "outputs": [],
   "source": [
    "with open(\"response.pkl\" , \"wb\") as f:\n",
    "    pickle.dump(response, f)"
   ]
  },
  {
   "cell_type": "code",
   "execution_count": 15,
   "metadata": {},
   "outputs": [
    {
     "name": "stdout",
     "output_type": "stream",
     "text": [
      "1. Red flags:\n",
      "   - The biggest red flag seems to be the firm's poor performance in Q2 2024, where it fell short of expectations due to economic conditions, rising interest rates, higher inventory levels and a lagging Chinese economy hindering client demand. If these conditions persist, it could significantly impact the company's earnings in the future. \n",
      "   - Another potential concern is the company's inventory increase, explained by the purchase of Talus products and long lead time capacitors to support green energy growth initiatives. While this could be seen as a sign of anticipated growth, if these products don't sell as expected, it could result in substantial obsolescence costs.\n",
      "   - The company acknowledged that customer behavior changed in the last couple of months with more caution in ordering due to a rapid rise in interest rates, global weakness, and expanding geopolitical uncertainty. This has, in turn, caused a slowdown in the rollouts of certain projects with potential delays stated for the ULTRAPEM product to Q4 of FY '24.\n",
      "\n",
      "2. Hidden issues: \n",
      "   - Richardson Electronics commented that employee compensation expenses increased due to hiring at higher levels despite lower incentives. This could mean that the company is struggling to attract or retain top talent, which could affect productivity and operation efficiency.\n",
      "   - There's a possibility that the firm is overly optimistic about the global green energy markets' growth. Snap-judgement changes, legislation, or technology advancements in this sector could drastically affect the expected growth of the firm.\n",
      "\n",
      "3. Remarkable Honesty: \n",
      "   - The company was transparent about falling short of their Q2 2024 expectations and outlined the reasons for this. They were honest in accepting that revenues will be lower in FY ‘24 than previously anticipated.\n",
      "   - The recognition that their near-term business is project-based, and timing is not always easy to predict showed realistic business foresight.\n",
      "   - The admission that profitability in Q2 was impacted because their gross margin reflects the under-absorption in their factory. This shows that the company understands its operating constraints and production inefficiencies. \n",
      "   - It was clear and candid in communicating that its recent performance is a result of timing issues and the emerging nature of its GES business.\n",
      "   - The company openly recognized the increase in operating expenses due to higher employee compensation expenses. They attributed this to higher staffing levels in fiscal 2023 and severance costs associated with healthcare's reduction in staff. \n",
      "\n",
      "Overall, it appears that Richardson Electronics is currently experiencing a challenging period. Its transparency and assessment of these challenges demonstrate a good level of management integrity. However, investors should remain cautious of the potential red flags highlighted and monitor the company's progress in the reported strategic growth areas. \n",
      "\n"
     ]
    }
   ],
   "source": [
    "# show response\n",
    "print(response.choices[0].message.content)\n"
   ]
  },
  {
   "cell_type": "code",
   "execution_count": null,
   "metadata": {},
   "outputs": [],
   "source": []
  },
  {
   "cell_type": "code",
   "execution_count": null,
   "metadata": {},
   "outputs": [],
   "source": []
  }
 ],
 "metadata": {
  "kernelspec": {
   "display_name": ".venv",
   "language": "python",
   "name": "python3"
  },
  "language_info": {
   "codemirror_mode": {
    "name": "ipython",
    "version": 3
   },
   "file_extension": ".py",
   "mimetype": "text/x-python",
   "name": "python",
   "nbconvert_exporter": "python",
   "pygments_lexer": "ipython3",
   "version": "3.11.6"
  }
 },
 "nbformat": 4,
 "nbformat_minor": 2
}
